{
 "cells": [
  {
   "cell_type": "code",
   "execution_count": 11,
   "metadata": {},
   "outputs": [],
   "source": [
    "import pandas as pd"
   ]
  },
  {
   "cell_type": "code",
   "execution_count": 12,
   "metadata": {},
   "outputs": [
    {
     "data": {
      "text/html": [
       "<div>\n",
       "<style scoped>\n",
       "    .dataframe tbody tr th:only-of-type {\n",
       "        vertical-align: middle;\n",
       "    }\n",
       "\n",
       "    .dataframe tbody tr th {\n",
       "        vertical-align: top;\n",
       "    }\n",
       "\n",
       "    .dataframe thead th {\n",
       "        text-align: right;\n",
       "    }\n",
       "</style>\n",
       "<table border=\"1\" class=\"dataframe\">\n",
       "  <thead>\n",
       "    <tr style=\"text-align: right;\">\n",
       "      <th></th>\n",
       "      <th>Unnamed: 0.3</th>\n",
       "      <th>Unnamed: 0</th>\n",
       "      <th>image_path</th>\n",
       "      <th>label</th>\n",
       "      <th>words</th>\n",
       "      <th>bbox</th>\n",
       "      <th>Unnamed: 0.1</th>\n",
       "      <th>Unnamed: 0.2</th>\n",
       "    </tr>\n",
       "  </thead>\n",
       "  <tbody>\n",
       "    <tr>\n",
       "      <th>0</th>\n",
       "      <td>0</td>\n",
       "      <td>0</td>\n",
       "      <td>../../train/catagorized_images/0/10033.tif</td>\n",
       "      <td>0</td>\n",
       "      <td>['alyeet' 'To!' 'Dae:' 'June' '9,' '1978' 'MOR...</td>\n",
       "      <td>[array([ 49, 112,  87, 122], dtype=int64)\\n ar...</td>\n",
       "      <td>NaN</td>\n",
       "      <td>NaN</td>\n",
       "    </tr>\n",
       "    <tr>\n",
       "      <th>1</th>\n",
       "      <td>1</td>\n",
       "      <td>1</td>\n",
       "      <td>../../train/catagorized_images/0/10040.tif</td>\n",
       "      <td>0</td>\n",
       "      <td>['From:' 'Blackmer,' 'Ed' 'To:' 'Whitehurst,' ...</td>\n",
       "      <td>[array([148,  86, 197,  98], dtype=int64)\\n ar...</td>\n",
       "      <td>NaN</td>\n",
       "      <td>NaN</td>\n",
       "    </tr>\n",
       "    <tr>\n",
       "      <th>2</th>\n",
       "      <td>2</td>\n",
       "      <td>2</td>\n",
       "      <td>../../train/catagorized_images/0/10075.tif</td>\n",
       "      <td>0</td>\n",
       "      <td>['Kane,' 'Lalsimer,' 'Kane,' 'Sullivanand' 'Ke...</td>\n",
       "      <td>[array([251,  65, 319,  85], dtype=int64)\\n ar...</td>\n",
       "      <td>NaN</td>\n",
       "      <td>NaN</td>\n",
       "    </tr>\n",
       "    <tr>\n",
       "      <th>3</th>\n",
       "      <td>3</td>\n",
       "      <td>3</td>\n",
       "      <td>../../train/catagorized_images/0/10081.tif</td>\n",
       "      <td>0</td>\n",
       "      <td>['April' '15,' '1986' 'TO:' 'Ma.' 'M.A.' 'Simm...</td>\n",
       "      <td>[array([120, 142, 168, 154], dtype=int64)\\n ar...</td>\n",
       "      <td>NaN</td>\n",
       "      <td>NaN</td>\n",
       "    </tr>\n",
       "    <tr>\n",
       "      <th>4</th>\n",
       "      <td>4</td>\n",
       "      <td>4</td>\n",
       "      <td>../../train/catagorized_images/0/10106.tif</td>\n",
       "      <td>0</td>\n",
       "      <td>['2380' 'Oerard' 'krerus,' 'Pron' 'ew' 'Tork,'...</td>\n",
       "      <td>[array([601, 415, 627, 423], dtype=int64)\\n ar...</td>\n",
       "      <td>NaN</td>\n",
       "      <td>NaN</td>\n",
       "    </tr>\n",
       "  </tbody>\n",
       "</table>\n",
       "</div>"
      ],
      "text/plain": [
       "   Unnamed: 0.3  Unnamed: 0                                  image_path  \\\n",
       "0             0           0  ../../train/catagorized_images/0/10033.tif   \n",
       "1             1           1  ../../train/catagorized_images/0/10040.tif   \n",
       "2             2           2  ../../train/catagorized_images/0/10075.tif   \n",
       "3             3           3  ../../train/catagorized_images/0/10081.tif   \n",
       "4             4           4  ../../train/catagorized_images/0/10106.tif   \n",
       "\n",
       "   label                                              words  \\\n",
       "0      0  ['alyeet' 'To!' 'Dae:' 'June' '9,' '1978' 'MOR...   \n",
       "1      0  ['From:' 'Blackmer,' 'Ed' 'To:' 'Whitehurst,' ...   \n",
       "2      0  ['Kane,' 'Lalsimer,' 'Kane,' 'Sullivanand' 'Ke...   \n",
       "3      0  ['April' '15,' '1986' 'TO:' 'Ma.' 'M.A.' 'Simm...   \n",
       "4      0  ['2380' 'Oerard' 'krerus,' 'Pron' 'ew' 'Tork,'...   \n",
       "\n",
       "                                                bbox  Unnamed: 0.1  \\\n",
       "0  [array([ 49, 112,  87, 122], dtype=int64)\\n ar...           NaN   \n",
       "1  [array([148,  86, 197,  98], dtype=int64)\\n ar...           NaN   \n",
       "2  [array([251,  65, 319,  85], dtype=int64)\\n ar...           NaN   \n",
       "3  [array([120, 142, 168, 154], dtype=int64)\\n ar...           NaN   \n",
       "4  [array([601, 415, 627, 423], dtype=int64)\\n ar...           NaN   \n",
       "\n",
       "   Unnamed: 0.2  \n",
       "0           NaN  \n",
       "1           NaN  \n",
       "2           NaN  \n",
       "3           NaN  \n",
       "4           NaN  "
      ]
     },
     "execution_count": 12,
     "metadata": {},
     "output_type": "execute_result"
    }
   ],
   "source": [
    "data = pd.read_csv('../../src/ocr_combined.csv')\n",
    "data.head()"
   ]
  },
  {
   "cell_type": "code",
   "execution_count": 13,
   "metadata": {},
   "outputs": [],
   "source": [
    "data.drop(columns=['Unnamed: 0.3', 'Unnamed: 0', 'Unnamed: 0.1', 'Unnamed: 0.2'], inplace=True)"
   ]
  },
  {
   "cell_type": "code",
   "execution_count": 14,
   "metadata": {},
   "outputs": [],
   "source": [
    "from datasets import Dataset"
   ]
  },
  {
   "cell_type": "code",
   "execution_count": 15,
   "metadata": {},
   "outputs": [
    {
     "data": {
      "text/plain": [
       "Dataset({\n",
       "    features: ['image_path', 'label', 'words', 'bbox'],\n",
       "    num_rows: 16000\n",
       "})"
      ]
     },
     "execution_count": 15,
     "metadata": {},
     "output_type": "execute_result"
    }
   ],
   "source": [
    "df = Dataset.from_pandas(data)\n",
    "df"
   ]
  },
  {
   "cell_type": "code",
   "execution_count": 16,
   "metadata": {},
   "outputs": [
    {
     "name": "stdout",
     "output_type": "stream",
     "text": [
      "1178\n",
      "['alyeet' 'To!' 'Dae:' 'June' '9,' '1978' 'MORE' 'Tar' 'Control' 'Mr.'\n",
      " 'E.' 'M.' 'Blackmer' 'From:' 'John' 'L.' 'McKenzie' 'w+' 'Marketing'\n",
      " 'Tobacco' 'Development' 'has' 'recommended' 'that' 'the' 'tar' 'for'\n",
      " 'MORE' 'cigarettes,' 'which' 'has' 'trended' 'upward' 'over' 'the' 'last'\n",
      " 'year' 'or' 'so,' 'could' 'be' 'brought' 'back' 'toward' 'the' 'stated'\n",
      " 'objective' 'of' '21-22' 'mg.' 'tar' 'by' 'means' 'of' 'a' 'tipping'\n",
      " 'change.' 'A' 'factory' 'test' 'was' 'made' 'using' 'this' 'change' 'on'\n",
      " 'MORE' 'Regular.' 'The' 'following' 'analytical' 'and' 'smoke' 'panel'\n",
      " 'results' 'pertain' 'to' 'that' 'test:' 'Product' 'Code' '25170' '2517B'\n",
      " 'Description' 'Control' 'Increased' 'Porosity' 'Tipping' 'Nicotine,'\n",
      " 'mz/cigt.' '1.8' '1.7' '25' '23' 'Tar,' 'mg/ciat.' 'Company-wide' 'Pack'\n",
      " 'Test' 'Base:' '132' '25170' '25178' 'Preference' '368' '338' 'Milder'\n",
      " '348' '31t' 'Overall' 'Better' 'Flavor' '348' '34e' 'This' 'data'\n",
      " 'indicates' 'that' 'a' '2' 'mg.' 'tar' 'reduction' 'is' 'feasible'\n",
      " 'without' 'affecting' 'consumer' 'preferences.' '‘J.' ',' 'Mckenzie'\n",
      " '/mhe' 'ce:' 'Mr.' 'D.' 'P.' 'Johnson' 'Mr.' 'J,' 'B.' 'Wilson' 'Ms.'\n",
      " 'G.' 'J.' 'Cardwell' 'Szez' 'ttros']\n"
     ]
    }
   ],
   "source": [
    "data_df = pd.DataFrame.from_dict(df)\n",
    "print(len(data_df[\"words\"][0]))\n",
    "print(data_df[\"words\"][0])"
   ]
  },
  {
   "cell_type": "code",
   "execution_count": 24,
   "metadata": {},
   "outputs": [],
   "source": [
    "from transformers import LayoutLMTokenizer\n",
    "import torch\n",
    "import os"
   ]
  },
  {
   "cell_type": "code",
   "execution_count": 29,
   "metadata": {},
   "outputs": [],
   "source": [
    "tokenizer = LayoutLMTokenizer.from_pretrained(\"microsoft/layoutlm-base-uncased\")\n",
    "\n",
    "def encode_example(example, max_seq_length=512, pad_token_box=[0, 0, 0, 0]):\n",
    "\twords = example['words']\n",
    "\tnormalized_word_boxes = example['bbox']\n",
    "\n",
    "\t# assert len(words) == len(normalized_word_boxes)\n",
    "\n",
    "\tif len(words)  <  len(normalized_word_boxes):\n",
    "\t\t# os.remove(example['image_path'])\n",
    "\t\texample['label'] = -1\n",
    "\t\treturn\t{}\n",
    "\t\t\n",
    "\t\t\n",
    "\n",
    "\ttoken_boxes = []\n",
    "\tfor word, box in zip(words, normalized_word_boxes):\n",
    "\t\tword_tokens = tokenizer.tokenize(word)\n",
    "\t\ttoken_boxes.extend([box] * len(word_tokens))\n",
    "\n",
    "\t# Truncation of token_boxes\n",
    "\tspecial_tokens_count = 2 \n",
    "\tif len(token_boxes) > max_seq_length - special_tokens_count:\n",
    "\t\ttoken_boxes = token_boxes[: (max_seq_length - special_tokens_count)]\n",
    "\n",
    "\t# add bounding boxes of cls + sep tokens\n",
    "\ttoken_boxes = [[0, 0, 0, 0]] + token_boxes + [[1000, 1000, 1000, 1000]]\n",
    "\n",
    "\tencoding = tokenizer(' '.join(words), padding='max_length', truncation=True)\n",
    " \n",
    "\t# Padding of token_boxes up the bounding boxes to the sequence length.\n",
    "\tinput_ids = tokenizer(' '.join(words), truncation=True)[\"input_ids\"]\n",
    "\tpadding_length = max_seq_length - len(input_ids)\n",
    "\ttoken_boxes += [pad_token_box] * padding_length\n",
    "\tencoding['bbox'] = token_boxes\n",
    "\tencoding['label'] = example['label']\n",
    "\n",
    "\tassert len(encoding['input_ids']) == max_seq_length\n",
    "\tassert len(encoding['attention_mask']) == max_seq_length\n",
    "\tassert len(encoding['token_type_ids']) == max_seq_length\n",
    "\tassert len(encoding['bbox']) == max_seq_length\n",
    "\n",
    "\treturn encoding"
   ]
  },
  {
   "cell_type": "code",
   "execution_count": 19,
   "metadata": {},
   "outputs": [],
   "source": [
    "from datasets import Features, Sequence, ClassLabel, Value, Array2D"
   ]
  },
  {
   "cell_type": "code",
   "execution_count": 30,
   "metadata": {},
   "outputs": [
    {
     "name": "stderr",
     "output_type": "stream",
     "text": [
      "  6%|▌         | 999/16000 [00:00<00:01, 12072.04ex/s]\n"
     ]
    },
    {
     "ename": "ArrowInvalid",
     "evalue": "Could not convert '[' with type str: tried to convert to int64",
     "output_type": "error",
     "traceback": [
      "\u001b[1;31m---------------------------------------------------------------------------\u001b[0m",
      "\u001b[1;31mArrowInvalid\u001b[0m                              Traceback (most recent call last)",
      "File \u001b[1;32md:\\YEAR3 sem1\\CSE3061 - Artificial Intelligence for Cyber Security\\DA\\KAGGLE_HACKATHON\\env\\lib\\site-packages\\datasets\\arrow_dataset.py:2951\u001b[0m, in \u001b[0;36mDataset._map_single\u001b[1;34m(self, function, with_indices, with_rank, input_columns, batched, batch_size, drop_last_batch, remove_columns, keep_in_memory, load_from_cache_file, cache_file_name, writer_batch_size, features, disable_nullable, fn_kwargs, new_fingerprint, rank, offset, disable_tqdm, desc, cache_only)\u001b[0m\n\u001b[0;32m   2950\u001b[0m             \u001b[39melse\u001b[39;00m:\n\u001b[1;32m-> 2951\u001b[0m                 writer\u001b[39m.\u001b[39;49mwrite(example)\n\u001b[0;32m   2952\u001b[0m \u001b[39melse\u001b[39;00m:\n",
      "File \u001b[1;32md:\\YEAR3 sem1\\CSE3061 - Artificial Intelligence for Cyber Security\\DA\\KAGGLE_HACKATHON\\env\\lib\\site-packages\\datasets\\arrow_writer.py:467\u001b[0m, in \u001b[0;36mArrowWriter.write\u001b[1;34m(self, example, key, writer_batch_size)\u001b[0m\n\u001b[0;32m    465\u001b[0m     \u001b[39mself\u001b[39m\u001b[39m.\u001b[39mhkey_record \u001b[39m=\u001b[39m []\n\u001b[1;32m--> 467\u001b[0m \u001b[39mself\u001b[39;49m\u001b[39m.\u001b[39;49mwrite_examples_on_file()\n",
      "File \u001b[1;32md:\\YEAR3 sem1\\CSE3061 - Artificial Intelligence for Cyber Security\\DA\\KAGGLE_HACKATHON\\env\\lib\\site-packages\\datasets\\arrow_writer.py:425\u001b[0m, in \u001b[0;36mArrowWriter.write_examples_on_file\u001b[1;34m(self)\u001b[0m\n\u001b[0;32m    424\u001b[0m     batch_examples[col] \u001b[39m=\u001b[39m [row[\u001b[39m0\u001b[39m][col] \u001b[39mfor\u001b[39;00m row \u001b[39min\u001b[39;00m \u001b[39mself\u001b[39m\u001b[39m.\u001b[39mcurrent_examples]\n\u001b[1;32m--> 425\u001b[0m \u001b[39mself\u001b[39;49m\u001b[39m.\u001b[39;49mwrite_batch(batch_examples\u001b[39m=\u001b[39;49mbatch_examples)\n\u001b[0;32m    426\u001b[0m \u001b[39mself\u001b[39m\u001b[39m.\u001b[39mcurrent_examples \u001b[39m=\u001b[39m []\n",
      "File \u001b[1;32md:\\YEAR3 sem1\\CSE3061 - Artificial Intelligence for Cyber Security\\DA\\KAGGLE_HACKATHON\\env\\lib\\site-packages\\datasets\\arrow_writer.py:524\u001b[0m, in \u001b[0;36mArrowWriter.write_batch\u001b[1;34m(self, batch_examples, writer_batch_size)\u001b[0m\n\u001b[0;32m    523\u001b[0m typed_sequence \u001b[39m=\u001b[39m OptimizedTypedSequence(batch_examples[col], \u001b[39mtype\u001b[39m\u001b[39m=\u001b[39mcol_type, try_type\u001b[39m=\u001b[39mcol_try_type, col\u001b[39m=\u001b[39mcol)\n\u001b[1;32m--> 524\u001b[0m arrays\u001b[39m.\u001b[39mappend(pa\u001b[39m.\u001b[39;49marray(typed_sequence))\n\u001b[0;32m    525\u001b[0m inferred_features[col] \u001b[39m=\u001b[39m typed_sequence\u001b[39m.\u001b[39mget_inferred_type()\n",
      "File \u001b[1;32md:\\YEAR3 sem1\\CSE3061 - Artificial Intelligence for Cyber Security\\DA\\KAGGLE_HACKATHON\\env\\lib\\site-packages\\pyarrow\\array.pxi:231\u001b[0m, in \u001b[0;36mpyarrow.lib.array\u001b[1;34m()\u001b[0m\n",
      "File \u001b[1;32md:\\YEAR3 sem1\\CSE3061 - Artificial Intelligence for Cyber Security\\DA\\KAGGLE_HACKATHON\\env\\lib\\site-packages\\pyarrow\\array.pxi:110\u001b[0m, in \u001b[0;36mpyarrow.lib._handle_arrow_array_protocol\u001b[1;34m()\u001b[0m\n",
      "File \u001b[1;32md:\\YEAR3 sem1\\CSE3061 - Artificial Intelligence for Cyber Security\\DA\\KAGGLE_HACKATHON\\env\\lib\\site-packages\\datasets\\arrow_writer.py:175\u001b[0m, in \u001b[0;36mTypedSequence.__arrow_array__\u001b[1;34m(self, type)\u001b[0m\n\u001b[0;32m    174\u001b[0m \u001b[39mif\u001b[39;00m \u001b[39misinstance\u001b[39m(pa_type, _ArrayXDExtensionType):\n\u001b[1;32m--> 175\u001b[0m     storage \u001b[39m=\u001b[39m to_pyarrow_listarray(data, pa_type)\n\u001b[0;32m    176\u001b[0m     \u001b[39mreturn\u001b[39;00m pa\u001b[39m.\u001b[39mExtensionArray\u001b[39m.\u001b[39mfrom_storage(pa_type, storage)\n",
      "File \u001b[1;32md:\\YEAR3 sem1\\CSE3061 - Artificial Intelligence for Cyber Security\\DA\\KAGGLE_HACKATHON\\env\\lib\\site-packages\\datasets\\features\\features.py:1402\u001b[0m, in \u001b[0;36mto_pyarrow_listarray\u001b[1;34m(data, pa_type)\u001b[0m\n\u001b[0;32m   1401\u001b[0m \u001b[39melse\u001b[39;00m:\n\u001b[1;32m-> 1402\u001b[0m     \u001b[39mreturn\u001b[39;00m pa\u001b[39m.\u001b[39;49marray(data, pa_type\u001b[39m.\u001b[39;49mstorage_dtype)\n",
      "File \u001b[1;32md:\\YEAR3 sem1\\CSE3061 - Artificial Intelligence for Cyber Security\\DA\\KAGGLE_HACKATHON\\env\\lib\\site-packages\\pyarrow\\array.pxi:317\u001b[0m, in \u001b[0;36mpyarrow.lib.array\u001b[1;34m()\u001b[0m\n",
      "File \u001b[1;32md:\\YEAR3 sem1\\CSE3061 - Artificial Intelligence for Cyber Security\\DA\\KAGGLE_HACKATHON\\env\\lib\\site-packages\\pyarrow\\array.pxi:39\u001b[0m, in \u001b[0;36mpyarrow.lib._sequence_to_array\u001b[1;34m()\u001b[0m\n",
      "File \u001b[1;32md:\\YEAR3 sem1\\CSE3061 - Artificial Intelligence for Cyber Security\\DA\\KAGGLE_HACKATHON\\env\\lib\\site-packages\\pyarrow\\error.pxi:144\u001b[0m, in \u001b[0;36mpyarrow.lib.pyarrow_internal_check_status\u001b[1;34m()\u001b[0m\n",
      "File \u001b[1;32md:\\YEAR3 sem1\\CSE3061 - Artificial Intelligence for Cyber Security\\DA\\KAGGLE_HACKATHON\\env\\lib\\site-packages\\pyarrow\\error.pxi:100\u001b[0m, in \u001b[0;36mpyarrow.lib.check_status\u001b[1;34m()\u001b[0m\n",
      "\u001b[1;31mArrowInvalid\u001b[0m: Could not convert '[' with type str: tried to convert to int64",
      "\nDuring handling of the above exception, another exception occurred:\n",
      "\u001b[1;31mArrowInvalid\u001b[0m                              Traceback (most recent call last)",
      "Cell \u001b[1;32mIn [30], line 12\u001b[0m\n\u001b[0;32m      1\u001b[0m \u001b[39m# we need to define the features ourselves as the bbox of LayoutLM are an extra feature\u001b[39;00m\n\u001b[0;32m      2\u001b[0m features \u001b[39m=\u001b[39m Features({\n\u001b[0;32m      3\u001b[0m     \u001b[39m'\u001b[39m\u001b[39minput_ids\u001b[39m\u001b[39m'\u001b[39m: Sequence(feature\u001b[39m=\u001b[39mValue(dtype\u001b[39m=\u001b[39m\u001b[39m'\u001b[39m\u001b[39mint64\u001b[39m\u001b[39m'\u001b[39m)),\n\u001b[0;32m      4\u001b[0m     \u001b[39m'\u001b[39m\u001b[39mbbox\u001b[39m\u001b[39m'\u001b[39m: Array2D(dtype\u001b[39m=\u001b[39m\u001b[39m\"\u001b[39m\u001b[39mint64\u001b[39m\u001b[39m\"\u001b[39m, shape\u001b[39m=\u001b[39m(\u001b[39m512\u001b[39m, \u001b[39m4\u001b[39m)),\n\u001b[1;32m   (...)\u001b[0m\n\u001b[0;32m      9\u001b[0m     \u001b[39m'\u001b[39m\u001b[39mwords\u001b[39m\u001b[39m'\u001b[39m: Sequence(feature\u001b[39m=\u001b[39mValue(dtype\u001b[39m=\u001b[39m\u001b[39m'\u001b[39m\u001b[39mstring\u001b[39m\u001b[39m'\u001b[39m)),\n\u001b[0;32m     10\u001b[0m })\n\u001b[1;32m---> 12\u001b[0m encoded_dataset \u001b[39m=\u001b[39m df\u001b[39m.\u001b[39mmap(\u001b[39mlambda\u001b[39;00m example: encode_example(example), \n\u001b[0;32m     13\u001b[0m                                       features\u001b[39m=\u001b[39mfeatures)\n",
      "File \u001b[1;32md:\\YEAR3 sem1\\CSE3061 - Artificial Intelligence for Cyber Security\\DA\\KAGGLE_HACKATHON\\env\\lib\\site-packages\\datasets\\arrow_dataset.py:2562\u001b[0m, in \u001b[0;36mDataset.map\u001b[1;34m(self, function, with_indices, with_rank, input_columns, batched, batch_size, drop_last_batch, remove_columns, keep_in_memory, load_from_cache_file, cache_file_name, writer_batch_size, features, disable_nullable, fn_kwargs, num_proc, suffix_template, new_fingerprint, desc)\u001b[0m\n\u001b[0;32m   2559\u001b[0m disable_tqdm \u001b[39m=\u001b[39m \u001b[39mnot\u001b[39;00m logging\u001b[39m.\u001b[39mis_progress_bar_enabled()\n\u001b[0;32m   2561\u001b[0m \u001b[39mif\u001b[39;00m num_proc \u001b[39mis\u001b[39;00m \u001b[39mNone\u001b[39;00m \u001b[39mor\u001b[39;00m num_proc \u001b[39m==\u001b[39m \u001b[39m1\u001b[39m:\n\u001b[1;32m-> 2562\u001b[0m     \u001b[39mreturn\u001b[39;00m \u001b[39mself\u001b[39;49m\u001b[39m.\u001b[39;49m_map_single(\n\u001b[0;32m   2563\u001b[0m         function\u001b[39m=\u001b[39;49mfunction,\n\u001b[0;32m   2564\u001b[0m         with_indices\u001b[39m=\u001b[39;49mwith_indices,\n\u001b[0;32m   2565\u001b[0m         with_rank\u001b[39m=\u001b[39;49mwith_rank,\n\u001b[0;32m   2566\u001b[0m         input_columns\u001b[39m=\u001b[39;49minput_columns,\n\u001b[0;32m   2567\u001b[0m         batched\u001b[39m=\u001b[39;49mbatched,\n\u001b[0;32m   2568\u001b[0m         batch_size\u001b[39m=\u001b[39;49mbatch_size,\n\u001b[0;32m   2569\u001b[0m         drop_last_batch\u001b[39m=\u001b[39;49mdrop_last_batch,\n\u001b[0;32m   2570\u001b[0m         remove_columns\u001b[39m=\u001b[39;49mremove_columns,\n\u001b[0;32m   2571\u001b[0m         keep_in_memory\u001b[39m=\u001b[39;49mkeep_in_memory,\n\u001b[0;32m   2572\u001b[0m         load_from_cache_file\u001b[39m=\u001b[39;49mload_from_cache_file,\n\u001b[0;32m   2573\u001b[0m         cache_file_name\u001b[39m=\u001b[39;49mcache_file_name,\n\u001b[0;32m   2574\u001b[0m         writer_batch_size\u001b[39m=\u001b[39;49mwriter_batch_size,\n\u001b[0;32m   2575\u001b[0m         features\u001b[39m=\u001b[39;49mfeatures,\n\u001b[0;32m   2576\u001b[0m         disable_nullable\u001b[39m=\u001b[39;49mdisable_nullable,\n\u001b[0;32m   2577\u001b[0m         fn_kwargs\u001b[39m=\u001b[39;49mfn_kwargs,\n\u001b[0;32m   2578\u001b[0m         new_fingerprint\u001b[39m=\u001b[39;49mnew_fingerprint,\n\u001b[0;32m   2579\u001b[0m         disable_tqdm\u001b[39m=\u001b[39;49mdisable_tqdm,\n\u001b[0;32m   2580\u001b[0m         desc\u001b[39m=\u001b[39;49mdesc,\n\u001b[0;32m   2581\u001b[0m     )\n\u001b[0;32m   2582\u001b[0m \u001b[39melse\u001b[39;00m:\n\u001b[0;32m   2584\u001b[0m     \u001b[39mdef\u001b[39;00m \u001b[39mformat_cache_file_name\u001b[39m(cache_file_name, rank):\n",
      "File \u001b[1;32md:\\YEAR3 sem1\\CSE3061 - Artificial Intelligence for Cyber Security\\DA\\KAGGLE_HACKATHON\\env\\lib\\site-packages\\datasets\\arrow_dataset.py:583\u001b[0m, in \u001b[0;36mtransmit_tasks.<locals>.wrapper\u001b[1;34m(*args, **kwargs)\u001b[0m\n\u001b[0;32m    581\u001b[0m     \u001b[39mself\u001b[39m: \u001b[39m\"\u001b[39m\u001b[39mDataset\u001b[39m\u001b[39m\"\u001b[39m \u001b[39m=\u001b[39m kwargs\u001b[39m.\u001b[39mpop(\u001b[39m\"\u001b[39m\u001b[39mself\u001b[39m\u001b[39m\"\u001b[39m)\n\u001b[0;32m    582\u001b[0m \u001b[39m# apply actual function\u001b[39;00m\n\u001b[1;32m--> 583\u001b[0m out: Union[\u001b[39m\"\u001b[39m\u001b[39mDataset\u001b[39m\u001b[39m\"\u001b[39m, \u001b[39m\"\u001b[39m\u001b[39mDatasetDict\u001b[39m\u001b[39m\"\u001b[39m] \u001b[39m=\u001b[39m func(\u001b[39mself\u001b[39m, \u001b[39m*\u001b[39margs, \u001b[39m*\u001b[39m\u001b[39m*\u001b[39mkwargs)\n\u001b[0;32m    584\u001b[0m datasets: List[\u001b[39m\"\u001b[39m\u001b[39mDataset\u001b[39m\u001b[39m\"\u001b[39m] \u001b[39m=\u001b[39m \u001b[39mlist\u001b[39m(out\u001b[39m.\u001b[39mvalues()) \u001b[39mif\u001b[39;00m \u001b[39misinstance\u001b[39m(out, \u001b[39mdict\u001b[39m) \u001b[39melse\u001b[39;00m [out]\n\u001b[0;32m    585\u001b[0m \u001b[39mfor\u001b[39;00m dataset \u001b[39min\u001b[39;00m datasets:\n\u001b[0;32m    586\u001b[0m     \u001b[39m# Remove task templates if a column mapping of the template is no longer valid\u001b[39;00m\n",
      "File \u001b[1;32md:\\YEAR3 sem1\\CSE3061 - Artificial Intelligence for Cyber Security\\DA\\KAGGLE_HACKATHON\\env\\lib\\site-packages\\datasets\\arrow_dataset.py:550\u001b[0m, in \u001b[0;36mtransmit_format.<locals>.wrapper\u001b[1;34m(*args, **kwargs)\u001b[0m\n\u001b[0;32m    543\u001b[0m self_format \u001b[39m=\u001b[39m {\n\u001b[0;32m    544\u001b[0m     \u001b[39m\"\u001b[39m\u001b[39mtype\u001b[39m\u001b[39m\"\u001b[39m: \u001b[39mself\u001b[39m\u001b[39m.\u001b[39m_format_type,\n\u001b[0;32m    545\u001b[0m     \u001b[39m\"\u001b[39m\u001b[39mformat_kwargs\u001b[39m\u001b[39m\"\u001b[39m: \u001b[39mself\u001b[39m\u001b[39m.\u001b[39m_format_kwargs,\n\u001b[0;32m    546\u001b[0m     \u001b[39m\"\u001b[39m\u001b[39mcolumns\u001b[39m\u001b[39m\"\u001b[39m: \u001b[39mself\u001b[39m\u001b[39m.\u001b[39m_format_columns,\n\u001b[0;32m    547\u001b[0m     \u001b[39m\"\u001b[39m\u001b[39moutput_all_columns\u001b[39m\u001b[39m\"\u001b[39m: \u001b[39mself\u001b[39m\u001b[39m.\u001b[39m_output_all_columns,\n\u001b[0;32m    548\u001b[0m }\n\u001b[0;32m    549\u001b[0m \u001b[39m# apply actual function\u001b[39;00m\n\u001b[1;32m--> 550\u001b[0m out: Union[\u001b[39m\"\u001b[39m\u001b[39mDataset\u001b[39m\u001b[39m\"\u001b[39m, \u001b[39m\"\u001b[39m\u001b[39mDatasetDict\u001b[39m\u001b[39m\"\u001b[39m] \u001b[39m=\u001b[39m func(\u001b[39mself\u001b[39m, \u001b[39m*\u001b[39margs, \u001b[39m*\u001b[39m\u001b[39m*\u001b[39mkwargs)\n\u001b[0;32m    551\u001b[0m datasets: List[\u001b[39m\"\u001b[39m\u001b[39mDataset\u001b[39m\u001b[39m\"\u001b[39m] \u001b[39m=\u001b[39m \u001b[39mlist\u001b[39m(out\u001b[39m.\u001b[39mvalues()) \u001b[39mif\u001b[39;00m \u001b[39misinstance\u001b[39m(out, \u001b[39mdict\u001b[39m) \u001b[39melse\u001b[39;00m [out]\n\u001b[0;32m    552\u001b[0m \u001b[39m# re-apply format to the output\u001b[39;00m\n",
      "File \u001b[1;32md:\\YEAR3 sem1\\CSE3061 - Artificial Intelligence for Cyber Security\\DA\\KAGGLE_HACKATHON\\env\\lib\\site-packages\\datasets\\fingerprint.py:480\u001b[0m, in \u001b[0;36mfingerprint_transform.<locals>._fingerprint.<locals>.wrapper\u001b[1;34m(*args, **kwargs)\u001b[0m\n\u001b[0;32m    476\u001b[0m             validate_fingerprint(kwargs[fingerprint_name])\n\u001b[0;32m    478\u001b[0m \u001b[39m# Call actual function\u001b[39;00m\n\u001b[1;32m--> 480\u001b[0m out \u001b[39m=\u001b[39m func(\u001b[39mself\u001b[39m, \u001b[39m*\u001b[39margs, \u001b[39m*\u001b[39m\u001b[39m*\u001b[39mkwargs)\n\u001b[0;32m    482\u001b[0m \u001b[39m# Update fingerprint of in-place transforms + update in-place history of transforms\u001b[39;00m\n\u001b[0;32m    484\u001b[0m \u001b[39mif\u001b[39;00m inplace:  \u001b[39m# update after calling func so that the fingerprint doesn't change if the function fails\u001b[39;00m\n",
      "File \u001b[1;32md:\\YEAR3 sem1\\CSE3061 - Artificial Intelligence for Cyber Security\\DA\\KAGGLE_HACKATHON\\env\\lib\\site-packages\\datasets\\arrow_dataset.py:2981\u001b[0m, in \u001b[0;36mDataset._map_single\u001b[1;34m(self, function, with_indices, with_rank, input_columns, batched, batch_size, drop_last_batch, remove_columns, keep_in_memory, load_from_cache_file, cache_file_name, writer_batch_size, features, disable_nullable, fn_kwargs, new_fingerprint, rank, offset, disable_tqdm, desc, cache_only)\u001b[0m\n\u001b[0;32m   2979\u001b[0m \u001b[39mif\u001b[39;00m update_data:\n\u001b[0;32m   2980\u001b[0m     \u001b[39mif\u001b[39;00m writer \u001b[39mis\u001b[39;00m \u001b[39mnot\u001b[39;00m \u001b[39mNone\u001b[39;00m:\n\u001b[1;32m-> 2981\u001b[0m         writer\u001b[39m.\u001b[39;49mfinalize()\n\u001b[0;32m   2982\u001b[0m     \u001b[39mif\u001b[39;00m tmp_file \u001b[39mis\u001b[39;00m \u001b[39mnot\u001b[39;00m \u001b[39mNone\u001b[39;00m:\n\u001b[0;32m   2983\u001b[0m         tmp_file\u001b[39m.\u001b[39mclose()\n",
      "File \u001b[1;32md:\\YEAR3 sem1\\CSE3061 - Artificial Intelligence for Cyber Security\\DA\\KAGGLE_HACKATHON\\env\\lib\\site-packages\\datasets\\arrow_writer.py:554\u001b[0m, in \u001b[0;36mArrowWriter.finalize\u001b[1;34m(self, close_stream)\u001b[0m\n\u001b[0;32m    552\u001b[0m     \u001b[39m# Re-intializing to empty list for next batch\u001b[39;00m\n\u001b[0;32m    553\u001b[0m     \u001b[39mself\u001b[39m\u001b[39m.\u001b[39mhkey_record \u001b[39m=\u001b[39m []\n\u001b[1;32m--> 554\u001b[0m \u001b[39mself\u001b[39;49m\u001b[39m.\u001b[39;49mwrite_examples_on_file()\n\u001b[0;32m    555\u001b[0m \u001b[39mif\u001b[39;00m \u001b[39mself\u001b[39m\u001b[39m.\u001b[39mpa_writer \u001b[39mis\u001b[39;00m \u001b[39mNone\u001b[39;00m:\n\u001b[0;32m    556\u001b[0m     \u001b[39mif\u001b[39;00m \u001b[39mself\u001b[39m\u001b[39m.\u001b[39mschema:\n",
      "File \u001b[1;32md:\\YEAR3 sem1\\CSE3061 - Artificial Intelligence for Cyber Security\\DA\\KAGGLE_HACKATHON\\env\\lib\\site-packages\\datasets\\arrow_writer.py:425\u001b[0m, in \u001b[0;36mArrowWriter.write_examples_on_file\u001b[1;34m(self)\u001b[0m\n\u001b[0;32m    422\u001b[0m \u001b[39mfor\u001b[39;00m col \u001b[39min\u001b[39;00m cols:\n\u001b[0;32m    423\u001b[0m     \u001b[39m# Since current_examples contains (example, key) tuples\u001b[39;00m\n\u001b[0;32m    424\u001b[0m     batch_examples[col] \u001b[39m=\u001b[39m [row[\u001b[39m0\u001b[39m][col] \u001b[39mfor\u001b[39;00m row \u001b[39min\u001b[39;00m \u001b[39mself\u001b[39m\u001b[39m.\u001b[39mcurrent_examples]\n\u001b[1;32m--> 425\u001b[0m \u001b[39mself\u001b[39;49m\u001b[39m.\u001b[39;49mwrite_batch(batch_examples\u001b[39m=\u001b[39;49mbatch_examples)\n\u001b[0;32m    426\u001b[0m \u001b[39mself\u001b[39m\u001b[39m.\u001b[39mcurrent_examples \u001b[39m=\u001b[39m []\n",
      "File \u001b[1;32md:\\YEAR3 sem1\\CSE3061 - Artificial Intelligence for Cyber Security\\DA\\KAGGLE_HACKATHON\\env\\lib\\site-packages\\datasets\\arrow_writer.py:524\u001b[0m, in \u001b[0;36mArrowWriter.write_batch\u001b[1;34m(self, batch_examples, writer_batch_size)\u001b[0m\n\u001b[0;32m    522\u001b[0m     col_try_type \u001b[39m=\u001b[39m try_features[col] \u001b[39mif\u001b[39;00m try_features \u001b[39mis\u001b[39;00m \u001b[39mnot\u001b[39;00m \u001b[39mNone\u001b[39;00m \u001b[39mand\u001b[39;00m col \u001b[39min\u001b[39;00m try_features \u001b[39melse\u001b[39;00m \u001b[39mNone\u001b[39;00m\n\u001b[0;32m    523\u001b[0m     typed_sequence \u001b[39m=\u001b[39m OptimizedTypedSequence(batch_examples[col], \u001b[39mtype\u001b[39m\u001b[39m=\u001b[39mcol_type, try_type\u001b[39m=\u001b[39mcol_try_type, col\u001b[39m=\u001b[39mcol)\n\u001b[1;32m--> 524\u001b[0m     arrays\u001b[39m.\u001b[39mappend(pa\u001b[39m.\u001b[39;49marray(typed_sequence))\n\u001b[0;32m    525\u001b[0m     inferred_features[col] \u001b[39m=\u001b[39m typed_sequence\u001b[39m.\u001b[39mget_inferred_type()\n\u001b[0;32m    526\u001b[0m schema \u001b[39m=\u001b[39m inferred_features\u001b[39m.\u001b[39marrow_schema \u001b[39mif\u001b[39;00m \u001b[39mself\u001b[39m\u001b[39m.\u001b[39mpa_writer \u001b[39mis\u001b[39;00m \u001b[39mNone\u001b[39;00m \u001b[39melse\u001b[39;00m \u001b[39mself\u001b[39m\u001b[39m.\u001b[39mschema\n",
      "File \u001b[1;32md:\\YEAR3 sem1\\CSE3061 - Artificial Intelligence for Cyber Security\\DA\\KAGGLE_HACKATHON\\env\\lib\\site-packages\\pyarrow\\array.pxi:231\u001b[0m, in \u001b[0;36mpyarrow.lib.array\u001b[1;34m()\u001b[0m\n",
      "File \u001b[1;32md:\\YEAR3 sem1\\CSE3061 - Artificial Intelligence for Cyber Security\\DA\\KAGGLE_HACKATHON\\env\\lib\\site-packages\\pyarrow\\array.pxi:110\u001b[0m, in \u001b[0;36mpyarrow.lib._handle_arrow_array_protocol\u001b[1;34m()\u001b[0m\n",
      "File \u001b[1;32md:\\YEAR3 sem1\\CSE3061 - Artificial Intelligence for Cyber Security\\DA\\KAGGLE_HACKATHON\\env\\lib\\site-packages\\datasets\\arrow_writer.py:175\u001b[0m, in \u001b[0;36mTypedSequence.__arrow_array__\u001b[1;34m(self, type)\u001b[0m\n\u001b[0;32m    172\u001b[0m \u001b[39mtry\u001b[39;00m:\n\u001b[0;32m    173\u001b[0m     \u001b[39m# custom pyarrow types\u001b[39;00m\n\u001b[0;32m    174\u001b[0m     \u001b[39mif\u001b[39;00m \u001b[39misinstance\u001b[39m(pa_type, _ArrayXDExtensionType):\n\u001b[1;32m--> 175\u001b[0m         storage \u001b[39m=\u001b[39m to_pyarrow_listarray(data, pa_type)\n\u001b[0;32m    176\u001b[0m         \u001b[39mreturn\u001b[39;00m pa\u001b[39m.\u001b[39mExtensionArray\u001b[39m.\u001b[39mfrom_storage(pa_type, storage)\n\u001b[0;32m    178\u001b[0m     \u001b[39m# efficient np array to pyarrow array\u001b[39;00m\n",
      "File \u001b[1;32md:\\YEAR3 sem1\\CSE3061 - Artificial Intelligence for Cyber Security\\DA\\KAGGLE_HACKATHON\\env\\lib\\site-packages\\datasets\\features\\features.py:1402\u001b[0m, in \u001b[0;36mto_pyarrow_listarray\u001b[1;34m(data, pa_type)\u001b[0m\n\u001b[0;32m   1400\u001b[0m     \u001b[39mreturn\u001b[39;00m any_np_array_to_pyarrow_listarray(data, \u001b[39mtype\u001b[39m\u001b[39m=\u001b[39mpa_type\u001b[39m.\u001b[39mvalue_type)\n\u001b[0;32m   1401\u001b[0m \u001b[39melse\u001b[39;00m:\n\u001b[1;32m-> 1402\u001b[0m     \u001b[39mreturn\u001b[39;00m pa\u001b[39m.\u001b[39;49marray(data, pa_type\u001b[39m.\u001b[39;49mstorage_dtype)\n",
      "File \u001b[1;32md:\\YEAR3 sem1\\CSE3061 - Artificial Intelligence for Cyber Security\\DA\\KAGGLE_HACKATHON\\env\\lib\\site-packages\\pyarrow\\array.pxi:317\u001b[0m, in \u001b[0;36mpyarrow.lib.array\u001b[1;34m()\u001b[0m\n",
      "File \u001b[1;32md:\\YEAR3 sem1\\CSE3061 - Artificial Intelligence for Cyber Security\\DA\\KAGGLE_HACKATHON\\env\\lib\\site-packages\\pyarrow\\array.pxi:39\u001b[0m, in \u001b[0;36mpyarrow.lib._sequence_to_array\u001b[1;34m()\u001b[0m\n",
      "File \u001b[1;32md:\\YEAR3 sem1\\CSE3061 - Artificial Intelligence for Cyber Security\\DA\\KAGGLE_HACKATHON\\env\\lib\\site-packages\\pyarrow\\error.pxi:144\u001b[0m, in \u001b[0;36mpyarrow.lib.pyarrow_internal_check_status\u001b[1;34m()\u001b[0m\n",
      "File \u001b[1;32md:\\YEAR3 sem1\\CSE3061 - Artificial Intelligence for Cyber Security\\DA\\KAGGLE_HACKATHON\\env\\lib\\site-packages\\pyarrow\\error.pxi:100\u001b[0m, in \u001b[0;36mpyarrow.lib.check_status\u001b[1;34m()\u001b[0m\n",
      "\u001b[1;31mArrowInvalid\u001b[0m: Could not convert '[' with type str: tried to convert to int64"
     ]
    }
   ],
   "source": [
    "# we need to define the features ourselves as the bbox of LayoutLM are an extra feature\n",
    "features = Features({\n",
    "    'input_ids': Sequence(feature=Value(dtype='int64')),\n",
    "    'bbox': Array2D(dtype=\"int64\", shape=(512, 4)),\n",
    "    'attention_mask': Sequence(Value(dtype='int64')),\n",
    "    'token_type_ids': Sequence(Value(dtype='int64')),\n",
    "    'label': ClassLabel(names=['refuted', 'entailed']),\n",
    "    'image_path': Value(dtype='string'),\n",
    "    'words': Sequence(feature=Value(dtype='string')),\n",
    "})\n",
    "\n",
    "encoded_dataset = df.map(lambda example: encode_example(example), \n",
    "                                      features=features)"
   ]
  },
  {
   "cell_type": "code",
   "execution_count": null,
   "metadata": {},
   "outputs": [],
   "source": []
  }
 ],
 "metadata": {
  "kernelspec": {
   "display_name": "Python 3.10.7 ('env': venv)",
   "language": "python",
   "name": "python3"
  },
  "language_info": {
   "codemirror_mode": {
    "name": "ipython",
    "version": 3
   },
   "file_extension": ".py",
   "mimetype": "text/x-python",
   "name": "python",
   "nbconvert_exporter": "python",
   "pygments_lexer": "ipython3",
   "version": "3.10.7"
  },
  "orig_nbformat": 4,
  "vscode": {
   "interpreter": {
    "hash": "34cd48f00e4c8e7c124dd14a0be8312f95e83b974a293305f707b8e2f38aad7b"
   }
  }
 },
 "nbformat": 4,
 "nbformat_minor": 2
}
